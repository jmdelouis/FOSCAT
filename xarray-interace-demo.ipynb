{
 "cells": [
  {
   "cell_type": "markdown",
   "id": "6d769a1c-baaa-481e-8183-eedcd18fc4eb",
   "metadata": {},
   "source": [
    "# demo of the xarray interface to foscat"
   ]
  },
  {
   "cell_type": "markdown",
   "id": "1b2dcecd-f5b5-452b-a7fa-68597c3bf842",
   "metadata": {},
   "source": [
    "## set up example data"
   ]
  },
  {
   "cell_type": "code",
   "execution_count": null,
   "id": "4a256766-b6f0-417c-a44b-ea7c146a3c52",
   "metadata": {},
   "outputs": [],
   "source": [
    "import healpy as hp\n",
    "import numpy as np\n",
    "import xarray as xr"
   ]
  },
  {
   "cell_type": "code",
   "execution_count": null,
   "id": "992fd958-3cee-496f-bd80-d8c33d116e6a",
   "metadata": {},
   "outputs": [],
   "source": [
    "nside = 64"
   ]
  },
  {
   "cell_type": "raw",
   "id": "de778649-317a-48d8-a7f3-53f39d9cbf7e",
   "metadata": {},
   "source": [
    "!wget -O target_map_lss.npy https://github.com/astro-informatics/s2scat/raw/main/notebooks/data/target_map_lss.npy"
   ]
  },
  {
   "cell_type": "code",
   "execution_count": null,
   "id": "45313260-d552-4f5c-b10b-607a3092a7d1",
   "metadata": {},
   "outputs": [],
   "source": [
    "from scipy.interpolate import RegularGridInterpolator\n",
    "\n",
    "# convert the input data in a nside=128 healpix map\n",
    "l_nside = 128\n",
    "\n",
    "im = np.load(\"target_map_lss.npy\")\n",
    "xsize, ysize = im.shape\n",
    "\n",
    "# Define the new row and column to be added to prepare the interpolation\n",
    "new_row = im[0:1, :]  # A new row with N elements (the other longitude)\n",
    "new_column = np.concatenate(\n",
    "    [im[:, 0:1], im[-2:-1, 0:1]], 0\n",
    ")  # A new column with N+1 elements to add previous latitude\n",
    "\n",
    "# Add the new row to the array\n",
    "im = np.vstack([im, new_row])\n",
    "\n",
    "# Add the new column to the array with the new row\n",
    "\n",
    "im = np.hstack([im, new_column])\n",
    "\n",
    "# Create a grid of coordinates corresponding to the array indices\n",
    "x = np.linspace(0, im.shape[0] - 1, im.shape[0])\n",
    "y = np.linspace(0, im.shape[1] - 1, im.shape[1])\n",
    "\n",
    "# Create an interpolator\n",
    "interpolator = RegularGridInterpolator((x, y), im)\n",
    "\n",
    "# List of healpix coordinate to interpol\n",
    "colatitude, longitude = hp.pix2ang(l_nside, np.arange(12 * l_nside**2), nest=True)\n",
    "coords = (\n",
    "    np.concatenate([colatitude / np.pi * xsize, longitude / (2 * np.pi) * ysize], 0)\n",
    "    .reshape(2, colatitude.shape[0])\n",
    "    .T\n",
    ")\n",
    "\n",
    "# Perform the interpolation\n",
    "heal_im = interpolator(coords)\n",
    "\n",
    "# reduce the final map to the expected resolution\n",
    "if nside > 128:\n",
    "    th, ph = hp.pix2ang(nside, np.arange(12 * nside**2), nest=True)\n",
    "    heal_im = hp.get_interp_val(heal_im, th, ph, nest=True)\n",
    "else:\n",
    "    heal_im = np.mean(heal_im.reshape(12 * nside**2, (l_nside // nside) ** 2), 1)\n",
    "hp.mollview(heal_im, cmap=\"plasma\", nest=True, title=\"LSS\", min=-3, max=3)\n",
    "\n",
    "# free memory\n",
    "del coords\n",
    "del interpolator\n",
    "del colatitude\n",
    "del longitude"
   ]
  },
  {
   "cell_type": "code",
   "execution_count": null,
   "id": "efe95cfb-d411-44c1-a6e0-fb78f5690299",
   "metadata": {},
   "outputs": [],
   "source": [
    "target_lss = xr.Dataset(\n",
    "    {\"lss\": (\"cells\", heal_im)}, coords={\"cell_ids\": (\"cells\", np.arange(heal_im.size))}\n",
    ")\n",
    "target_lss"
   ]
  },
  {
   "cell_type": "code",
   "execution_count": null,
   "id": "5c19ee73-eb86-4f51-af9d-1196e37a308e",
   "metadata": {},
   "outputs": [],
   "source": [
    "rng = np.random.default_rng()"
   ]
  },
  {
   "cell_type": "code",
   "execution_count": null,
   "id": "a0c67de7-4420-4ed5-8925-1135162ec1a4",
   "metadata": {},
   "outputs": [],
   "source": [
    "n_timesteps = 5\n",
    "random_noise = xr.DataArray(\n",
    "    rng.normal(scale=0.1, size=(n_timesteps, target_lss.sizes[\"cells\"])),\n",
    "    dims=[\"time\", \"cells\"],\n",
    "    coords={\n",
    "        \"cell_ids\": (\"cells\", np.arange(heal_im.size)),\n",
    "        \"time\": xr.date_range(\"2020-01-01\", freq=\"MS\", periods=n_timesteps),\n",
    "    },\n",
    ")\n",
    "random_noise"
   ]
  },
  {
   "cell_type": "code",
   "execution_count": null,
   "id": "43d8c3cb-c5ec-4dad-9bf4-4ba08383880f",
   "metadata": {},
   "outputs": [],
   "source": [
    "target_lss2 = target_lss + random_noise\n",
    "target_lss2"
   ]
  },
  {
   "cell_type": "markdown",
   "id": "a84f8c97-82f6-48d1-b9ba-34aa3c4d8775",
   "metadata": {},
   "source": [
    "## compute reference statistics"
   ]
  },
  {
   "cell_type": "code",
   "execution_count": null,
   "id": "f991d959-bdd3-47eb-824c-ce33de624753",
   "metadata": {},
   "outputs": [],
   "source": [
    "import foscat.xarray as foscat"
   ]
  },
  {
   "cell_type": "code",
   "execution_count": null,
   "id": "259e569b-9ca6-4816-80c4-6d29dd817eba",
   "metadata": {},
   "outputs": [],
   "source": [
    "params = foscat.Parameters(\n",
    "    n_orientations=4, kernel_size=5, jmax_delta=0, dtype=\"float64\", backend=\"numpy\"\n",
    ")"
   ]
  },
  {
   "cell_type": "code",
   "execution_count": null,
   "id": "5c553cba-aba3-4126-a3d8-95ff7d16968e",
   "metadata": {},
   "outputs": [],
   "source": [
    "stats = foscat.reference_statistics(target_lss2[\"lss\"], parameters=params, variances=True)\n",
    "stats"
   ]
  },
  {
   "cell_type": "code",
   "execution_count": null,
   "id": "3f27cad8-fad0-4781-914d-52e134c562a1",
   "metadata": {},
   "outputs": [],
   "source": [
    "stats.foscat.plot()"
   ]
  },
  {
   "cell_type": "markdown",
   "id": "9d45be4f-e35b-42c4-b3fc-f952328ac80f",
   "metadata": {},
   "source": [
    "## compute cross statistics"
   ]
  },
  {
   "cell_type": "code",
   "execution_count": null,
   "id": "5f701714-4fc8-4d5c-bc5b-91436b7a485b",
   "metadata": {},
   "outputs": [],
   "source": [
    "params = foscat.Parameters(\n",
    "    n_orientations=4, kernel_size=5, jmax_delta=0, dtype=\"float64\", backend=\"numpy\"\n",
    ")"
   ]
  },
  {
   "cell_type": "code",
   "execution_count": null,
   "id": "25d8f42e-2250-47aa-8809-6ad4d51e5eb6",
   "metadata": {},
   "outputs": [],
   "source": [
    "stats = foscat.cross_statistics(target_lss[\"lss\"], target_lss2[\"lss\"], parameters=params, variances=True)\n",
    "stats"
   ]
  },
  {
   "cell_type": "code",
   "execution_count": null,
   "id": "6a861ec6-0155-4912-a642-e0d340a55e65",
   "metadata": {},
   "outputs": [],
   "source": [
    "stats.foscat.plot()"
   ]
  }
 ],
 "metadata": {
  "kernelspec": {
   "display_name": "Python 3 (ipykernel)",
   "language": "python",
   "name": "python3"
  },
  "language_info": {
   "codemirror_mode": {
    "name": "ipython",
    "version": 3
   },
   "file_extension": ".py",
   "mimetype": "text/x-python",
   "name": "python",
   "nbconvert_exporter": "python",
   "pygments_lexer": "ipython3",
   "version": "3.12.9"
  }
 },
 "nbformat": 4,
 "nbformat_minor": 5
}
